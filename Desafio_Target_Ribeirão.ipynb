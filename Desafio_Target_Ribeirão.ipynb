{
  "nbformat": 4,
  "nbformat_minor": 0,
  "metadata": {
    "colab": {
      "provenance": [],
      "authorship_tag": "ABX9TyNA4zIE0Vakc9BIIN2X/qZ8",
      "include_colab_link": true
    },
    "kernelspec": {
      "name": "python3",
      "display_name": "Python 3"
    },
    "language_info": {
      "name": "python"
    }
  },
  "cells": [
    {
      "cell_type": "markdown",
      "metadata": {
        "id": "view-in-github",
        "colab_type": "text"
      },
      "source": [
        "<a href=\"https://colab.research.google.com/github/GermanoBiondi/Desafio_Target/blob/main/Desafio_Target_Ribeir%C3%A3o.ipynb\" target=\"_parent\"><img src=\"https://colab.research.google.com/assets/colab-badge.svg\" alt=\"Open In Colab\"/></a>"
      ]
    },
    {
      "cell_type": "code",
      "execution_count": 7,
      "metadata": {
        "colab": {
          "base_uri": "https://localhost:8080/"
        },
        "id": "YGmq495fPH-T",
        "outputId": "2dcb4471-b306-4bae-e159-094a9b784b59"
      },
      "outputs": [
        {
          "output_type": "stream",
          "name": "stdout",
          "text": [
            "Informe um número: a\n",
            "Por favor, insira um número válido.\n"
          ]
        }
      ],
      "source": [
        "# Pergunta 1\n",
        "\n",
        "def pertence_fibonacci(numero):\n",
        "    fib_a, fib_b = 0, 1\n",
        "\n",
        "    if numero == fib_a or numero == fib_b:\n",
        "        return f\"O número {numero} pertence à sequência de Fibonacci.\"\n",
        "\n",
        "    while fib_b < numero:\n",
        "        fib_a, fib_b = fib_b, fib_a + fib_b\n",
        "\n",
        "    if fib_b == numero:\n",
        "        return f\"O número {numero} pertence à sequência de Fibonacci.\"\n",
        "    else:\n",
        "        return f\"O número {numero} não pertence à sequência de Fibonacci.\"\n",
        "\n",
        "try:\n",
        "    numero = int(input(\"Informe um número: \"))\n",
        "    print(pertence_fibonacci(numero))\n",
        "except ValueError:\n",
        "    print(\"Por favor, insira um número válido.\")\n"
      ]
    },
    {
      "cell_type": "code",
      "source": [
        "# Pergunta 2\n",
        "\n",
        "string = input(\"Digite uma string: \")\n",
        "\n",
        "ocorrencias_a = string.lower().count('a')\n",
        "\n",
        "if ocorrencias_a > 0:\n",
        "    print(f\"A letra 'a' aparece {ocorrencias_a} vez(es) na string.\")\n",
        "else:\n",
        "    print(\"A letra 'a' não aparece na string.\")"
      ],
      "metadata": {
        "colab": {
          "base_uri": "https://localhost:8080/"
        },
        "id": "25ljxnKWPe7F",
        "outputId": "23ca6cce-b32b-4dfd-81b4-246ea7798b6f"
      },
      "execution_count": 9,
      "outputs": [
        {
          "output_type": "stream",
          "name": "stdout",
          "text": [
            "Digite uma string: Bolo\n",
            "A letra 'a' não aparece na string.\n"
          ]
        }
      ]
    },
    {
      "cell_type": "code",
      "source": [
        "#Pergunta 3\n",
        "indice = 12\n",
        "soma = 0\n",
        "k = 1\n",
        "\n",
        "while k < indice:\n",
        "    k = k + 1\n",
        "    soma = soma + k\n",
        "\n",
        "print(soma)"
      ],
      "metadata": {
        "colab": {
          "base_uri": "https://localhost:8080/"
        },
        "id": "m0Oerw4WPy1A",
        "outputId": "05ca3f9e-4a85-4af5-fa79-60e0fe253203"
      },
      "execution_count": 13,
      "outputs": [
        {
          "output_type": "stream",
          "name": "stdout",
          "text": [
            "77\n"
          ]
        }
      ]
    },
    {
      "cell_type": "code",
      "source": [],
      "metadata": {
        "id": "xN-2cjmIRHD-"
      },
      "execution_count": null,
      "outputs": []
    }
  ]
}